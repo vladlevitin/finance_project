{
 "cells": [
  {
   "cell_type": "code",
   "execution_count": 8,
   "metadata": {},
   "outputs": [],
   "source": [
    "import pandas as pd\n",
    "\n",
    "topics = pd.read_csv('data/part3/topics.csv')\n",
    "\n",
    "topics.drop('Unnamed: 0', axis=1, inplace=True)\n",
    "topics.to_csv('data/part3/topics.csv', index=False)"
   ]
  },
  {
   "cell_type": "code",
   "execution_count": 10,
   "metadata": {},
   "outputs": [],
   "source": [
    "tweets = pd.read_csv('data/tweets/processed_all_tweets.csv')"
   ]
  },
  {
   "cell_type": "code",
   "execution_count": 12,
   "metadata": {},
   "outputs": [],
   "source": [
    "from sklearn.feature_extraction.text import CountVectorizer, TfidfVectorizer\n",
    "\n",
    "def get_top_n_words(corpus, n=None):\n",
    "    vec = CountVectorizer(stop_words='english').fit(corpus)\n",
    "    bag_of_words = vec.transform(corpus)\n",
    "    sum_words = bag_of_words.sum(axis=0) \n",
    "    words_freq = [(word, sum_words[0, idx]) for word, idx in vec.vocabulary_.items()]\n",
    "    words_freq =sorted(words_freq, key = lambda x: x[1], reverse=True)\n",
    "    return words_freq[:n]\n",
    "\n",
    "    \n",
    "common_words = get_top_n_words(tweets.filtered_text, 20)\n",
    "unigram = pd.DataFrame(common_words, columns = ['unigram' , 'count'])"
   ]
  },
  {
   "cell_type": "code",
   "execution_count": 13,
   "metadata": {},
   "outputs": [],
   "source": [
    "def get_top_n_trigram(corpus, n=None):\n",
    "    vec = CountVectorizer(ngram_range=(3,3),stop_words='english').fit(corpus)\n",
    "    bag_of_words = vec.transform(corpus)\n",
    "    sum_words = bag_of_words.sum(axis=0) \n",
    "    words_freq = [(word, sum_words[0, idx]) for word, idx in      vec.vocabulary_.items()]\n",
    "    words_freq =sorted(words_freq, key = lambda x: x[1], reverse=True)\n",
    "    return words_freq[:n]\n",
    "common_words = get_top_n_trigram(tweets.filtered_text, 10)\n",
    "trigram = pd.DataFrame(common_words, columns = ['trigram' , 'count'])"
   ]
  },
  {
   "cell_type": "code",
   "execution_count": 14,
   "metadata": {},
   "outputs": [
    {
     "data": {
      "text/plain": [
       "<12963x3283 sparse matrix of type '<class 'numpy.int64'>'\n",
       "\twith 56461 stored elements in Compressed Sparse Row format>"
      ]
     },
     "execution_count": 14,
     "metadata": {},
     "output_type": "execute_result"
    }
   ],
   "source": [
    "from sklearn.decomposition import LatentDirichletAllocation\n",
    "from sklearn.feature_extraction.text import CountVectorizer, TfidfVectorizer\n",
    "\n",
    "vectorizer = CountVectorizer(\n",
    "analyzer='word',       \n",
    "min_df=3,# minimum required occurences of a word \n",
    "stop_words='english',# remove stop words\n",
    "lowercase=True,# convert all words to lowercase\n",
    "token_pattern='[a-zA-Z0-9]{2,}',# num chars > 3\n",
    "max_features=5000,# max number of unique words\n",
    "                            )\n",
    "data_matrix = vectorizer.fit_transform(tweets.filtered_text)\n",
    "data_matrix"
   ]
  },
  {
   "cell_type": "code",
   "execution_count": 90,
   "metadata": {},
   "outputs": [],
   "source": [
    "lda_model = LatentDirichletAllocation(\n",
    "    n_components=10, # Number of topics\n",
    "    learning_method='online',\n",
    "    random_state=20,       \n",
    "    n_jobs = -1 )\n",
    "\n",
    "\n",
    "lda_output = lda_model.fit_transform(data_matrix)"
   ]
  },
  {
   "cell_type": "code",
   "execution_count": 91,
   "metadata": {},
   "outputs": [
    {
     "name": "stdout",
     "output_type": "stream",
     "text": [
      "Top 10 words for topic #0:\n",
      "['dragon', 'public', 'fun', 'station', 'best', 'way', 'right', 'model', 'time', 'yes']\n",
      "\n",
      "\n",
      "Top 10 words for topic #1:\n",
      "['pretty', 'rocket', 'earth', 'engine', 'falcon', 'launch', 'coming', 'probably', 'starship', 'true']\n",
      "\n",
      "\n",
      "Top 10 words for topic #2:\n",
      "['battery', 'today', 'ago', 'safety', 'problem', 'hard', 'thanks', 'need', 'production', 'exactly']\n",
      "\n",
      "\n",
      "Top 10 words for topic #3:\n",
      "['especially', 'video', 'air', 'engineering', 'doesnt', 'electric', 'real', 'high', 'car', 'like']\n",
      "\n",
      "\n",
      "Top 10 words for topic #4:\n",
      "['wow', 'range', 'autopilot', 'times', 'days', 'important', 'hopefully', 'going', 'think', 'make']\n",
      "\n",
      "\n",
      "Top 10 words for topic #5:\n",
      "['free', 'later', 'definitely', 'little', 'design', 'know', 'love', 'people', 'actually', 'yeah']\n",
      "\n",
      "\n",
      "Top 10 words for topic #6:\n",
      "['making', 'cost', 'people', 'money', 'cool', 'future', 'use', 'lot', 'maybe', 'soon']\n",
      "\n",
      "\n",
      "Top 10 words for topic #7:\n",
      "['truth', 'say', 'power', 'solar', 'long', 'world', 'mass', 'day', 'better', 'sure']\n",
      "\n",
      "\n",
      "Top 10 words for topic #8:\n",
      "['small', '10', 'really', 'point', 'thats', 'team', 'dont', 'work', 'great', 'good']\n",
      "\n",
      "\n",
      "Top 10 words for topic #9:\n",
      "['20', 'super', 'twitter', 'pressure', 'end', 'working', 'life', 'want', 'feed', 'new']\n",
      "\n",
      "\n"
     ]
    }
   ],
   "source": [
    "for i,topic in enumerate(lda_model.components_):\n",
    "    print(f'Top 10 words for topic #{i}:')\n",
    "    print([vectorizer.get_feature_names()[j] for j in topic.argsort()[-10:]])\n",
    "    print('\\n')"
   ]
  },
  {
   "cell_type": "code",
   "execution_count": 95,
   "metadata": {},
   "outputs": [
    {
     "name": "stderr",
     "output_type": "stream",
     "text": [
      "c:\\Users\\levit\\.pyenv\\pyenv-win\\versions\\3.10.7\\lib\\site-packages\\sklearn\\utils\\deprecation.py:87: FutureWarning: Function get_feature_names is deprecated; get_feature_names is deprecated in 1.0 and will be removed in 1.2. Please use get_feature_names_out instead.\n",
      "  warnings.warn(msg, category=FutureWarning)\n",
      "c:\\Users\\levit\\.pyenv\\pyenv-win\\versions\\3.10.7\\lib\\site-packages\\sklearn\\utils\\deprecation.py:87: FutureWarning: Function get_feature_names is deprecated; get_feature_names is deprecated in 1.0 and will be removed in 1.2. Please use get_feature_names_out instead.\n",
      "  warnings.warn(msg, category=FutureWarning)\n",
      "c:\\Users\\levit\\.pyenv\\pyenv-win\\versions\\3.10.7\\lib\\site-packages\\sklearn\\utils\\deprecation.py:87: FutureWarning: Function get_feature_names is deprecated; get_feature_names is deprecated in 1.0 and will be removed in 1.2. Please use get_feature_names_out instead.\n",
      "  warnings.warn(msg, category=FutureWarning)\n"
     ]
    },
    {
     "name": "stdout",
     "output_type": "stream",
     "text": [
      "[91.21843482942255, 96.50084492769908, 102.56758385898026, 111.7469110494651, 167.93536748556897, 204.20450922620807, 211.54313580413577, 276.9305188416934, 316.14522729347885, 593.727875928518]\n",
      "[155.45711651480593, 159.08945155546346, 159.36802622081325, 160.6849488263695, 170.7194747627197, 179.29532550353989, 213.67591672513203, 256.1062201098517, 259.6719615290022, 328.7636485683467]\n",
      "[70.98844192884052, 74.69269792816566, 78.15351412371743, 88.121185228947, 109.23830915880804, 189.70462645251706, 196.51692707367616, 234.64349112472524, 251.63386688461975, 263.0401816592922]\n"
     ]
    },
    {
     "name": "stderr",
     "output_type": "stream",
     "text": [
      "c:\\Users\\levit\\.pyenv\\pyenv-win\\versions\\3.10.7\\lib\\site-packages\\sklearn\\utils\\deprecation.py:87: FutureWarning: Function get_feature_names is deprecated; get_feature_names is deprecated in 1.0 and will be removed in 1.2. Please use get_feature_names_out instead.\n",
      "  warnings.warn(msg, category=FutureWarning)\n",
      "c:\\Users\\levit\\.pyenv\\pyenv-win\\versions\\3.10.7\\lib\\site-packages\\sklearn\\utils\\deprecation.py:87: FutureWarning: Function get_feature_names is deprecated; get_feature_names is deprecated in 1.0 and will be removed in 1.2. Please use get_feature_names_out instead.\n",
      "  warnings.warn(msg, category=FutureWarning)\n",
      "c:\\Users\\levit\\.pyenv\\pyenv-win\\versions\\3.10.7\\lib\\site-packages\\sklearn\\utils\\deprecation.py:87: FutureWarning: Function get_feature_names is deprecated; get_feature_names is deprecated in 1.0 and will be removed in 1.2. Please use get_feature_names_out instead.\n",
      "  warnings.warn(msg, category=FutureWarning)\n"
     ]
    },
    {
     "name": "stdout",
     "output_type": "stream",
     "text": [
      "[82.13200596201084, 82.8349320163697, 91.69475281169198, 95.09296899694286, 106.26415355460922, 106.49509820900498, 128.95400394255313, 301.65490762046187, 345.79887951626506, 423.38790615503154]\n",
      "[83.85552439242804, 87.63802243718631, 93.3478286940599, 110.76145693369496, 113.81400805620146, 116.7345500945937, 116.89874605219055, 141.15580335400992, 177.94370000911897, 297.80317845006556]\n",
      "[91.8207473377658, 96.07393857192152, 108.77276517734914, 111.99754644409104, 128.9754470864864, 132.062246893208, 148.05348160011417, 199.35064841706486, 207.54819583210926, 280.86203134235603]\n"
     ]
    },
    {
     "name": "stderr",
     "output_type": "stream",
     "text": [
      "c:\\Users\\levit\\.pyenv\\pyenv-win\\versions\\3.10.7\\lib\\site-packages\\sklearn\\utils\\deprecation.py:87: FutureWarning: Function get_feature_names is deprecated; get_feature_names is deprecated in 1.0 and will be removed in 1.2. Please use get_feature_names_out instead.\n",
      "  warnings.warn(msg, category=FutureWarning)\n",
      "c:\\Users\\levit\\.pyenv\\pyenv-win\\versions\\3.10.7\\lib\\site-packages\\sklearn\\utils\\deprecation.py:87: FutureWarning: Function get_feature_names is deprecated; get_feature_names is deprecated in 1.0 and will be removed in 1.2. Please use get_feature_names_out instead.\n",
      "  warnings.warn(msg, category=FutureWarning)\n",
      "c:\\Users\\levit\\.pyenv\\pyenv-win\\versions\\3.10.7\\lib\\site-packages\\sklearn\\utils\\deprecation.py:87: FutureWarning: Function get_feature_names is deprecated; get_feature_names is deprecated in 1.0 and will be removed in 1.2. Please use get_feature_names_out instead.\n",
      "  warnings.warn(msg, category=FutureWarning)\n"
     ]
    },
    {
     "name": "stdout",
     "output_type": "stream",
     "text": [
      "[85.92578738970406, 91.32233867727933, 91.73658139335939, 105.64973866323145, 135.02813705176027, 145.5071229714664, 167.80659343958646, 187.67423774939908, 209.52193382472188, 252.22324799005384]\n",
      "[79.66428482452346, 83.55261675145708, 87.65560665175781, 102.58693649353359, 103.07379616638931, 105.86230962157848, 107.30686423123781, 137.21811912651395, 226.91422504779757, 249.3228525719952]\n",
      "[97.97576760342018, 126.55052820728159, 128.34364127230853, 158.03301776531586, 178.6244622405273, 228.76822291792013, 254.87375174459035, 270.2390320494172, 450.05852679702394, 506.9756591997732]\n",
      "[80.49701135736007, 80.51338977567886, 85.22339023668135, 90.76019717395671, 95.03318898459445, 99.17090665720698, 114.39163071892209, 128.2093062461494, 133.92659497323353, 243.01749250706547]\n"
     ]
    },
    {
     "name": "stderr",
     "output_type": "stream",
     "text": [
      "c:\\Users\\levit\\.pyenv\\pyenv-win\\versions\\3.10.7\\lib\\site-packages\\sklearn\\utils\\deprecation.py:87: FutureWarning: Function get_feature_names is deprecated; get_feature_names is deprecated in 1.0 and will be removed in 1.2. Please use get_feature_names_out instead.\n",
      "  warnings.warn(msg, category=FutureWarning)\n"
     ]
    }
   ],
   "source": [
    "import matplotlib.pyplot as plt\n",
    "from wordcloud import WordCloud\n",
    "\n",
    "for i in range(10):\n",
    "    words = [vectorizer.get_feature_names()[j] for j in lda_model.components_[i].argsort()[-10:]]\n",
    "    frequency = [lda_model.components_[i][j] for j in lda_model.components_[i].argsort()[-10:]]\n",
    "    \n",
    "    print(frequency)\n",
    "    wordcloud = WordCloud(background_color='white', prefer_horizontal=1, contour_color='steelblue', \n",
    "                          width=500, height=500, mode='RGBA',\n",
    "                          max_font_size=100, min_font_size=30\n",
    "                          \n",
    "                          \n",
    "                          \n",
    "                          ).generate_from_frequencies(dict(zip(words, frequency)))\n",
    "\n",
    "    wordcloud.to_image()\n",
    "\n",
    "    wordcloud.to_file(f\"data/figures/wordcloud_topic_{i+1}.png\")"
   ]
  },
  {
   "cell_type": "code",
   "execution_count": null,
   "metadata": {},
   "outputs": [],
   "source": []
  }
 ],
 "metadata": {
  "kernelspec": {
   "display_name": "Python 3.10.7 64-bit ('3.10.7')",
   "language": "python",
   "name": "python3"
  },
  "language_info": {
   "codemirror_mode": {
    "name": "ipython",
    "version": 3
   },
   "file_extension": ".py",
   "mimetype": "text/x-python",
   "name": "python",
   "nbconvert_exporter": "python",
   "pygments_lexer": "ipython3",
   "version": "3.10.7"
  },
  "orig_nbformat": 4,
  "vscode": {
   "interpreter": {
    "hash": "0e748b08df6639b92156e1f0a2e584fc605f942beb5319c4ded409ee9197cfce"
   }
  }
 },
 "nbformat": 4,
 "nbformat_minor": 2
}
