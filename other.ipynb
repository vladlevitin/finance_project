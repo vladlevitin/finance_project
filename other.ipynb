{
 "cells": [
  {
   "cell_type": "code",
   "execution_count": null,
   "metadata": {},
   "outputs": [],
   "source": [
    "def calculate_adjusted_volumes(data, adjusted_volumes):\n",
    "    for index in data.index:\n",
    "        time = data['date_time'][index].time()\n",
    "        date = data['date_time'][index].date()\n",
    "        \n",
    "        total_volume = 0\n",
    "        n=0\n",
    "        for index2 in data.index:\n",
    "            if(data['date_time'][index2].time() == time):\n",
    "                total_volume += data['volume'][index2]\n",
    "                n+=1\n",
    "        adjusted_volumes.append(total_volume/n)\n",
    "    return adjusted_volumes"
   ]
  }
 ],
 "metadata": {
  "kernelspec": {
   "display_name": "Python 3.10.7 64-bit ('3.10.7')",
   "language": "python",
   "name": "python3"
  },
  "language_info": {
   "name": "python",
   "version": "3.10.7"
  },
  "orig_nbformat": 4,
  "vscode": {
   "interpreter": {
    "hash": "0e748b08df6639b92156e1f0a2e584fc605f942beb5319c4ded409ee9197cfce"
   }
  }
 },
 "nbformat": 4,
 "nbformat_minor": 2
}
